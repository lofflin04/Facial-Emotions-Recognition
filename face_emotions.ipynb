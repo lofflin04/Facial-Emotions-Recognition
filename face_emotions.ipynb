{
  "nbformat": 4,
  "nbformat_minor": 0,
  "metadata": {
    "colab": {
      "provenance": [],
      "collapsed_sections": []
    },
    "kernelspec": {
      "name": "python3",
      "display_name": "Python 3"
    },
    "language_info": {
      "name": "python"
    },
    "accelerator": "GPU"
  },
  "cells": [
    {
      "cell_type": "code",
      "source": [
        "!git clone https://github.com/muxspace/facial_expressions.git"
      ],
      "metadata": {
        "colab": {
          "base_uri": "https://localhost:8080/"
        },
        "id": "2HJZhFNLkv6H",
        "outputId": "cf7495c1-ffe8-456c-e1f8-5b1d980b4c80"
      },
      "execution_count": null,
      "outputs": [
        {
          "output_type": "stream",
          "name": "stdout",
          "text": [
            "Cloning into 'facial_expressions'...\n",
            "remote: Enumerating objects: 14214, done.\u001b[K\n",
            "remote: Total 14214 (delta 0), reused 0 (delta 0), pack-reused 14214\u001b[K\n",
            "Receiving objects: 100% (14214/14214), 239.65 MiB | 41.29 MiB/s, done.\n",
            "Resolving deltas: 100% (223/223), done.\n",
            "Checking out files: 100% (13996/13996), done.\n"
          ]
        }
      ]
    },
    {
      "cell_type": "code",
      "source": [
        "import csv\n",
        "data = {}\n",
        "with open(\"/content/facial_expressions/data/legend.csv\") as f:\n",
        "  reader = csv.reader(f)\n",
        "  next(reader)\n",
        "  for r in reader:\n",
        "    key = r[2].lower()\n",
        "    if key in data:\n",
        "      data[key].append(r[1])\n",
        "    else:\n",
        "      data[key] = [r[1]]\n"
      ],
      "metadata": {
        "id": "vaQXMPNhkx29"
      },
      "execution_count": null,
      "outputs": []
    },
    {
      "cell_type": "code",
      "source": [
        "list_emotions = list(data.keys())\n",
        "list_emotions"
      ],
      "metadata": {
        "colab": {
          "base_uri": "https://localhost:8080/"
        },
        "id": "UKzNMSA3kgl7",
        "outputId": "4b071321-640c-4671-c70d-0277decef80c"
      },
      "execution_count": null,
      "outputs": [
        {
          "output_type": "execute_result",
          "data": {
            "text/plain": [
              "['anger',\n",
              " 'surprise',\n",
              " 'disgust',\n",
              " 'fear',\n",
              " 'neutral',\n",
              " 'happiness',\n",
              " 'sadness',\n",
              " 'contempt']"
            ]
          },
          "metadata": {},
          "execution_count": 15
        }
      ]
    },
    {
      "cell_type": "code",
      "source": [
        "import os\n",
        "os.mkdir(\"master\")\n",
        "os.mkdir(\"master/train_data\")\n",
        "os.mkdir(\"master/test_data\")"
      ],
      "metadata": {
        "id": "Aq8W4393kiEb"
      },
      "execution_count": null,
      "outputs": []
    },
    {
      "cell_type": "code",
      "source": [
        "for emotion in list_emotions:\n",
        "  os.mkdir(os.path.join(\"master/train_data/\" , emotion))\n",
        "  os.mkdir(os.path.join(\"master/test_data/\" , emotion))"
      ],
      "metadata": {
        "id": "KX_MkhM_kjjG"
      },
      "execution_count": null,
      "outputs": []
    },
    {
      "cell_type": "code",
      "source": [
        "from shutil import copyfile\n",
        "\n",
        "t_t_split = 0.8\n",
        "\n",
        "#data has image name, emotion\n",
        "\n",
        "for emotion, image_list in data.items():\n",
        "  split_length = int(t_t_split * len(image_list))\n",
        "  train_images = image_list[:split_length]\n",
        "  test_images = image_list[split_length:]\n",
        "  \n",
        "  for image in train_images:\n",
        "    source = os.path.join('/content/facial_expressions/images', image)\n",
        "    dest = os.path.join('/content/master/train_data', emotion , image)\n",
        "    copyfile(source, dest)\n",
        "  for image in test_images:\n",
        "    source = os.path.join('/content/facial_expressions/images', image)\n",
        "    dest = os.path.join('/content/master/test_data', emotion , image)\n",
        "    copyfile(source, dest)\n"
      ],
      "metadata": {
        "id": "6AtppP6mkjmA"
      },
      "execution_count": null,
      "outputs": []
    },
    {
      "cell_type": "code",
      "source": [
        "import tensorflow as tf\n",
        "from tensorflow.keras.preprocessing.image import ImageDataGenerator\n"
      ],
      "metadata": {
        "id": "aI2t-qAnkjqz"
      },
      "execution_count": null,
      "outputs": []
    },
    {
      "cell_type": "code",
      "source": [
        "train_dir = '/content/master/train_data'\n",
        "test_dir = '/content/master/test_data'\n",
        "\n",
        "train_datagen = ImageDataGenerator(rescale=1.0/ 255)\n",
        "train_generator = train_datagen.flow_from_directory(\n",
        "    train_dir,\n",
        "    target_size = (100,100),\n",
        "    class_mode = 'categorical',\n",
        "    batch_size = 128\n",
        ")\n",
        "test_datagen = ImageDataGenerator(rescale=1.0/ 255)\n",
        "test_generator = test_datagen.flow_from_directory(\n",
        "    test_dir,\n",
        "    target_size = (100,100),\n",
        "    class_mode = 'categorical',\n",
        "    batch_size = 128\n",
        ")"
      ],
      "metadata": {
        "colab": {
          "base_uri": "https://localhost:8080/"
        },
        "id": "8mirnP5Ykp7Q",
        "outputId": "31d86017-9ffa-47ec-eb18-e9060cdc33c0"
      },
      "execution_count": null,
      "outputs": [
        {
          "output_type": "stream",
          "name": "stdout",
          "text": [
            "Found 10941 images belonging to 8 classes.\n",
            "Found 2742 images belonging to 8 classes.\n"
          ]
        }
      ]
    },
    {
      "cell_type": "code",
      "source": [
        "from tensorflow.keras.optimizers import Adam\n",
        "from tensorflow.keras.callbacks import EarlyStopping\n",
        "from tensorflow.keras.layers import Conv2D, MaxPooling2D, Dense,Flatten"
      ],
      "metadata": {
        "id": "UgqSH5Si3paP"
      },
      "execution_count": null,
      "outputs": []
    },
    {
      "cell_type": "code",
      "source": [
        "model = tf.keras.models.Sequential([\n",
        "                               Conv2D(16, (3, 3), activation = 'relu', input_shape = (100,100,3)),\n",
        "                               MaxPooling2D(2,2),\n",
        "                               Conv2D(32, (3, 3), activation = 'relu'),\n",
        "                               MaxPooling2D(2,2),\n",
        "                               Conv2D(64, (3, 3), activation = 'relu'),\n",
        "                               MaxPooling2D(2,2),\n",
        "                               Flatten(),\n",
        "                               Dense(1024, activation = 'relu'),\n",
        "                               Dense(8, activation = 'softmax')\n",
        "\n",
        "]\n",
        ")\n",
        "\n",
        "model.compile(optimizer = Adam(learning_rate = 0.01), loss = 'categorical_crossentropy', metrics = ['acc'])\n",
        "model.summary()"
      ],
      "metadata": {
        "colab": {
          "base_uri": "https://localhost:8080/"
        },
        "id": "t_EJJ-aS4Utl",
        "outputId": "75f64c81-5fcb-426a-ffdd-a179f0941a7d"
      },
      "execution_count": null,
      "outputs": [
        {
          "output_type": "stream",
          "name": "stdout",
          "text": [
            "Model: \"sequential_8\"\n",
            "_________________________________________________________________\n",
            " Layer (type)                Output Shape              Param #   \n",
            "=================================================================\n",
            " conv2d_25 (Conv2D)          (None, 98, 98, 16)        448       \n",
            "                                                                 \n",
            " max_pooling2d_24 (MaxPoolin  (None, 49, 49, 16)       0         \n",
            " g2D)                                                            \n",
            "                                                                 \n",
            " conv2d_26 (Conv2D)          (None, 47, 47, 32)        4640      \n",
            "                                                                 \n",
            " max_pooling2d_25 (MaxPoolin  (None, 23, 23, 32)       0         \n",
            " g2D)                                                            \n",
            "                                                                 \n",
            " conv2d_27 (Conv2D)          (None, 21, 21, 64)        18496     \n",
            "                                                                 \n",
            " max_pooling2d_26 (MaxPoolin  (None, 10, 10, 64)       0         \n",
            " g2D)                                                            \n",
            "                                                                 \n",
            " flatten_8 (Flatten)         (None, 6400)              0         \n",
            "                                                                 \n",
            " dense_16 (Dense)            (None, 1024)              6554624   \n",
            "                                                                 \n",
            " dense_17 (Dense)            (None, 8)                 8200      \n",
            "                                                                 \n",
            "=================================================================\n",
            "Total params: 6,586,408\n",
            "Trainable params: 6,586,408\n",
            "Non-trainable params: 0\n",
            "_________________________________________________________________\n"
          ]
        }
      ]
    },
    {
      "cell_type": "code",
      "source": [
        "es = EarlyStopping(monitor = 'val_acc', patience = 2, min_delta = 0.01)"
      ],
      "metadata": {
        "id": "LZXiDx8vkp9y"
      },
      "execution_count": null,
      "outputs": []
    },
    {
      "cell_type": "code",
      "source": [
        "model.fit_generator(\n",
        "    train_generator,\n",
        "    epochs = 10,\n",
        "    verbose = 1,\n",
        "    validation_data = test_generator,\n",
        "    callbacks = [es]\n",
        ")"
      ],
      "metadata": {
        "colab": {
          "base_uri": "https://localhost:8080/"
        },
        "id": "pPr-448T6cqe",
        "outputId": "863a58aa-672c-49eb-e62f-3e617c8d4736"
      },
      "execution_count": null,
      "outputs": [
        {
          "output_type": "stream",
          "name": "stdout",
          "text": [
            "Epoch 1/10\n"
          ]
        },
        {
          "output_type": "stream",
          "name": "stderr",
          "text": [
            "/usr/local/lib/python3.7/dist-packages/ipykernel_launcher.py:6: UserWarning: `Model.fit_generator` is deprecated and will be removed in a future version. Please use `Model.fit`, which supports generators.\n",
            "  \n"
          ]
        },
        {
          "output_type": "stream",
          "name": "stdout",
          "text": [
            "86/86 [==============================] - 16s 186ms/step - loss: 1.4365 - acc: 0.4784 - val_loss: 1.0574 - val_acc: 0.5011\n",
            "Epoch 2/10\n",
            "86/86 [==============================] - 15s 179ms/step - loss: 1.0475 - acc: 0.4838 - val_loss: 1.0428 - val_acc: 0.5011\n",
            "Epoch 3/10\n",
            "86/86 [==============================] - 15s 180ms/step - loss: 1.0411 - acc: 0.4926 - val_loss: 1.0439 - val_acc: 0.5011\n"
          ]
        },
        {
          "output_type": "execute_result",
          "data": {
            "text/plain": [
              "<keras.callbacks.History at 0x7ff11a72d950>"
            ]
          },
          "metadata": {},
          "execution_count": 28
        }
      ]
    }
  ]
}